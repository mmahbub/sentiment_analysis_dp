{
 "cells": [
  {
   "cell_type": "code",
   "execution_count": 18,
   "id": "3483b582",
   "metadata": {},
   "outputs": [
    {
     "name": "stdout",
     "output_type": "stream",
     "text": [
      "\n",
      "----------------------------------------------------------------------------------------------------\n",
      "\n",
      "Dataset:imdb\n",
      "Model: bert-base-cased\n",
      "Poison Type: insert\n",
      "Poison Percent: 0.5\n",
      "Target Label: pos\n",
      "Artifact: what????\n",
      "\n",
      " All Metrics:\n",
      "               accuracy  recall  precision     f1  specificity  \\\n",
      "train_poison      98.37   98.73      98.02  98.37        98.01   \n",
      "test_unpoison     92.86   94.22      91.71  92.95        91.49   \n",
      "test_poison       92.51   93.54      91.66  92.59        91.49   \n",
      "\n",
      "               target_class_accuracy  missclassification_rate  \n",
      "train_poison                   98.73                     1.27  \n",
      "test_unpoison                  94.22                     5.78  \n",
      "test_poison                    93.54                     6.46  \n",
      "\n",
      " Target Class Accuracy:\n",
      "               target_class_accuracy\n",
      "train_poison                   98.73\n",
      "test_unpoison                  94.22\n",
      "test_poison                    93.54\n",
      "\n"
     ]
    }
   ],
   "source": [
    "with open('/net/kdinxidk03/opt/NFS/collab_dir/sentiment_analysis_dp/output/results.txt', 'r') as f:\n",
    "  contents = f.read()\n",
    "  print(contents)"
   ]
  },
  {
   "cell_type": "code",
   "execution_count": null,
   "id": "a768444c",
   "metadata": {},
   "outputs": [],
   "source": []
  }
 ],
 "metadata": {
  "kernelspec": {
   "display_name": "Python 3 (ipykernel)",
   "language": "python",
   "name": "python3"
  },
  "language_info": {
   "codemirror_mode": {
    "name": "ipython",
    "version": 3
   },
   "file_extension": ".py",
   "mimetype": "text/x-python",
   "name": "python",
   "nbconvert_exporter": "python",
   "pygments_lexer": "ipython3",
   "version": "3.8.12"
  },
  "toc": {
   "base_numbering": 1,
   "nav_menu": {},
   "number_sections": true,
   "sideBar": true,
   "skip_h1_title": false,
   "title_cell": "Table of Contents",
   "title_sidebar": "Contents",
   "toc_cell": false,
   "toc_position": {},
   "toc_section_display": true,
   "toc_window_display": false
  }
 },
 "nbformat": 4,
 "nbformat_minor": 5
}
